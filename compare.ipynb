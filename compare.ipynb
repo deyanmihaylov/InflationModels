{
 "cells": [
  {
   "cell_type": "code",
   "execution_count": 1,
   "metadata": {},
   "outputs": [],
   "source": [
    "import os\n",
    "import numpy as np\n",
    "import scipy.interpolate as spip"
   ]
  },
  {
   "cell_type": "code",
   "execution_count": 2,
   "metadata": {},
   "outputs": [],
   "source": [
    "IM_dir = \"/Users/deyanmihaylov/Documents/Work/inflation/InflationModels\"\n",
    "FC_dir = \"/Users/deyanmihaylov/Documents/Work/inflation/FlowCode\"\n"
   ]
  },
  {
   "cell_type": "code",
   "execution_count": 64,
   "metadata": {},
   "outputs": [
    {
     "name": "stdout",
     "output_type": "stream",
     "text": [
      "\n",
      "\n",
      "\n",
      "\n",
      "\n",
      "\n",
      "6 2 0.00031468836822851683\n",
      "6 3 0.0022430720099530094\n",
      "\n",
      "7 3 0.0007020459932304338\n",
      "\n",
      "8 0 0.00022678343419527618\n",
      "8 3 0.0002836618486421018\n",
      "\n",
      "9 0 0.0005151767195388631\n",
      "9 3 0.00029311153082165094\n",
      "\n",
      "10 3 0.0018570945867555924\n",
      "\n"
     ]
    }
   ],
   "source": [
    "for i in range(205):\n",
    "    if i > 10: break\n",
    "    IM_path = os.path.join(IM_dir, f\"path{i:03}.dat\")\n",
    "    FC_path = os.path.join(FC_dir, f\"path{i:03}.dat\")\n",
    "\n",
    "    IM_path_f = np.genfromtxt(IM_path, delimiter=\",\")\n",
    "    FC_path_f = np.genfromtxt(FC_path)\n",
    "\n",
    "    for idx in range(FC_path_f.shape[1]):\n",
    "        if idx == 8: continue\n",
    "\n",
    "        FC_interp = spip.InterpolatedUnivariateSpline(FC_path_f[:, 8], FC_path_f[:, idx])\n",
    "        IM_interp = spip.InterpolatedUnivariateSpline(IM_path_f[:, 8], IM_path_f[:, idx])\n",
    "        \n",
    "        int_start = np.max([FC_path_f[0, 8], IM_path_f[0, 8]])\n",
    "        int_end = np.min([FC_path_f[-1, 8], IM_path_f[-1, 8]])\n",
    "        \n",
    "        interval = np.linspace(int_start, int_end, 100000)\n",
    "        dx = interval[1] - interval[0]\n",
    "\n",
    "        FC_evald = FC_interp(interval)\n",
    "        IM_evald = IM_interp(interval)\n",
    "\n",
    "        diff = dx * np.sum(np.abs(FC_evald - IM_evald)**2)\n",
    "\n",
    "        if diff > 1e-4: print(i, idx, diff)\n",
    "    print()\n",
    "    "
   ]
  },
  {
   "cell_type": "code",
   "execution_count": 62,
   "metadata": {},
   "outputs": [
    {
     "data": {
      "image/png": "[encoded data removed]",
      "text/plain": [
       "<Figure size 640x480 with 1 Axes>"
      ]
     },
     "metadata": {},
     "output_type": "display_data"
    }
   ],
   "source": [
    "import matplotlib.pyplot as plt\n",
    "\n",
    "IM_path = os.path.join(IM_dir, f\"path004.dat\")\n",
    "FC_path = os.path.join(FC_dir, f\"path004.dat\")\n",
    "\n",
    "IM_path_f = np.genfromtxt(IM_path, delimiter=\",\")\n",
    "FC_path_f = np.genfromtxt(FC_path)\n",
    "\n",
    "plt.plot(FC_path_f[:, 8], FC_path_f[:, 3])\n",
    "plt.plot(IM_path_f[:, 8], IM_path_f[:, 3])\n",
    "\n",
    "plt.xlabel(\"N\")\n",
    "\n",
    "plt.show()"
   ]
  },
  {
   "cell_type": "code",
   "execution_count": 27,
   "metadata": {},
   "outputs": [
    {
     "name": "stdout",
     "output_type": "stream",
     "text": [
      "2.0335946724251373e-06\n",
      "9.887744976635744e-14\n",
      "2.6948526788084213e-06\n",
      "8.108607663440824e-05\n",
      "3.5088385900951356e-07\n",
      "2.1211820288130947e-07\n",
      "7.413018278230321e-08\n",
      "3.280657225573772e-10\n",
      "1.956304246522922e-24\n",
      "5.185694330016055e-28\n"
     ]
    }
   ],
   "source": [
    "\n"
   ]
  },
  {
   "cell_type": "code",
   "execution_count": 6,
   "metadata": {},
   "outputs": [],
   "source": [
    "from scipy.integrate import solve_ivp\n",
    "\n",
    "du = np.zeros((3), dtype=np.float32)\n",
    "\n",
    "def f2(t, u, du, sigma, rho, beta):\n",
    "    x, y, z = u\n",
    "    du[0] = sigma * (y - x)\n",
    "    du[1] = x * (rho - z) - y\n",
    "    du[2] = x * y - beta * z\n",
    "    return du\n",
    "\n",
    "numba_f = numba.jit(f2, nopython=True)\n"
   ]
  },
  {
   "cell_type": "code",
   "execution_count": 13,
   "metadata": {},
   "outputs": [
    {
     "name": "stdout",
     "output_type": "stream",
     "text": [
      "137 ms ± 14.8 ms per loop (mean ± std. dev. of 7 runs, 1,000 loops each)\n"
     ]
    }
   ],
   "source": [
    "%%timeit -n 1000\n",
    "\n",
    "sol_new = solve_ivp(\n",
    "    numba_f,\n",
    "    tspan,\n",
    "    u0,\n",
    "    method='DOP853',\n",
    "    t_eval=None,\n",
    "    dense_output=False,\n",
    "    events=None,\n",
    "    vectorized=False,\n",
    "    args=(du,10.0,28.0,2.66),\n",
    ")"
   ]
  },
  {
   "cell_type": "code",
   "execution_count": null,
   "metadata": {},
   "outputs": [],
   "source": []
  }
 ],
 "metadata": {
  "kernelspec": {
   "display_name": "Python 3 (ipykernel)",
   "language": "python",
   "name": "python3"
  },
  "language_info": {
   "codemirror_mode": {
    "name": "ipython",
    "version": 3
   },
   "file_extension": ".py",
   "mimetype": "text/x-python",
   "name": "python",
   "nbconvert_exporter": "python",
   "pygments_lexer": "ipython3",
   "version": "3.10.4"
  }
 },
 "nbformat": 4,
 "nbformat_minor": 2
}
