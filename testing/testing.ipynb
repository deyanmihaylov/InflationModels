{
 "cells": [
  {
   "cell_type": "code",
   "execution_count": 1,
   "metadata": {
    "collapsed": true
   },
   "outputs": [],
   "source": [
    "import numpy as np\n",
    "\n",
    "import matplotlib.pyplot as plt\n",
    "\n",
    "from scipy.interpolate import interp1d"
   ]
  },
  {
   "cell_type": "code",
   "execution_count": 13,
   "metadata": {},
   "outputs": [
    {
     "name": "stdout",
     "output_type": "stream",
     "text": [
      "43 8.27180612553e-25\n"
     ]
    }
   ],
   "source": [
    "data_old = np.loadtxt(\"/Users/deyanmihaylov/Desktop/Scrap space/InflationModels/spec_t000.dat\",\n",
    "                          dtype='float',\n",
    "                          comments='#',\n",
    "                          delimiter=None,\n",
    "                          converters=None,\n",
    "                          skiprows=0,\n",
    "                          usecols=None,\n",
    "                          unpack=False,\n",
    "                          ndmin=0)\n",
    "\n",
    "data_new = np.loadtxt(\"/Users/deyanmihaylov/Desktop/Scrap space/inflation/WillKinney/flowcode_1.0.3/spec_t000.dat\",\n",
    "                         dtype='float',\n",
    "                         comments='#',\n",
    "                         delimiter=None,\n",
    "                         converters=None,\n",
    "                         skiprows=0,\n",
    "                         usecols=None,\n",
    "                         unpack=False,\n",
    "                         ndmin=0)\n",
    "\n",
    "print(np.abs(data_new-data_old).argmax(), np.abs(data_new-data_old).max())"
   ]
  },
  {
   "cell_type": "code",
   "execution_count": 3,
   "metadata": {
    "collapsed": true
   },
   "outputs": [],
   "source": [
    "import pandas as pd\n",
    "data_old = pd.read_csv('python.dat',\n",
    "                       sep=\" \",\n",
    "                       header=None)\n",
    "\n",
    "data_new = pd.read_csv('c.dat',\n",
    "                       sep=\" \",\n",
    "                       header=None)\n",
    "\n",
    "# print(np.abs(data_new-data_old).max())"
   ]
  },
  {
   "cell_type": "code",
   "execution_count": 4,
   "metadata": {},
   "outputs": [
    {
     "data": {
      "text/plain": [
       "0.0"
      ]
     },
     "execution_count": 4,
     "metadata": {},
     "output_type": "execute_result"
    }
   ],
   "source": [
    "(data_old - data_new).max().max()"
   ]
  },
  {
   "cell_type": "code",
   "execution_count": 9,
   "metadata": {
    "scrolled": false
   },
   "outputs": [
    {
     "name": "stdout",
     "output_type": "stream",
     "text": [
      "1592 1.24077091883e-24\n",
      "1608 1.24077091883e-24\n",
      "1593 1.03397576569e-24\n",
      "1592 2.58493941423e-26\n",
      "1592 1.24077091883e-24\n",
      "1671 1.13091099372e-26\n",
      "1592 2.06795153138e-24\n",
      "1592 2.06795153138e-25\n",
      "2688 2.06795153138e-25\n",
      "1593 2.48154183766e-24\n",
      "2664 3.10192729707e-25\n",
      "1653 2.58493941423e-26\n",
      "1580 3.10192729707e-25\n",
      "1592 1.03397576569e-25\n",
      "1580 1.24077091883e-24\n",
      "1592 2.48154183766e-24\n",
      "1599 1.65436122511e-24\n",
      "1592 1.24077091883e-24\n",
      "1593 3.87740912134e-26\n",
      "1608 1.03397576569e-25\n",
      "1629 1.29246970711e-26\n",
      "1592 2.06795153138e-25\n",
      "1592 1.29246970711e-26\n",
      "1580 1.00974195868e-28\n",
      "1619 2.06795153138e-24\n"
     ]
    }
   ],
   "source": [
    "for x in range(25):\n",
    "    name_python = \"/Users/deyanmihaylov/Desktop/Scrap space/InflationModels/spec_t\" + str(x).zfill(3) + \".dat\"\n",
    "    \n",
    "    name_C = \"/Users/deyanmihaylov/Desktop/Scrap space/inflation/WillKinney/flowcode_1.0.3/spec_t\" + str(x).zfill(3) + \".dat\"\n",
    "    \n",
    "    data_python = np.loadtxt(\n",
    "        name_python,\n",
    "        dtype='float',\n",
    "        comments='#',\n",
    "        delimiter=None,\n",
    "        converters=None,\n",
    "        skiprows=0,\n",
    "        usecols=None,\n",
    "        unpack=False,\n",
    "        ndmin=0\n",
    "    )\n",
    "\n",
    "    data_C = np.loadtxt(\n",
    "        name_C,\n",
    "        dtype='float',\n",
    "        comments='#',\n",
    "        delimiter=None,\n",
    "        converters=None,\n",
    "        skiprows=0,\n",
    "        usecols=None,\n",
    "        unpack=False,\n",
    "        ndmin=0\n",
    "    ).T\n",
    "    \n",
    "    print(np.abs(data_python-data_C).argmax(), np.abs(data_python-data_C).max())"
   ]
  },
  {
   "cell_type": "code",
   "execution_count": 28,
   "metadata": {
    "scrolled": false
   },
   "outputs": [
    {
     "name": "stdout",
     "output_type": "stream",
     "text": [
      "0\n"
     ]
    },
    {
     "name": "stderr",
     "output_type": "stream",
     "text": [
      "/Users/deyanmihaylov/anaconda/lib/python3.5/site-packages/ipykernel/__main__.py:34: UserWarning: loadtxt: Empty input file: \"/Users/deyanmihaylov/Desktop/Scrap space/inflation/WillKinney/flowcode_1.0.3/spec_t000.dat\"\n"
     ]
    },
    {
     "name": "stdout",
     "output_type": "stream",
     "text": [
      "1000\n",
      "2000\n",
      "3000\n"
     ]
    }
   ],
   "source": [
    "import numpy as np\n",
    " \n",
    "for x in range(3125):\n",
    "    if x % 1000 == 0:\n",
    "        print(x)\n",
    "    \n",
    "    name_oldC = \"/Users/deyanmihaylov/Desktop/Scrap space/inflation/WillKinney/flowcode_1.0.3/gsl114files/spec_t\" + str(x).zfill(3) + \".dat\"\n",
    "\n",
    "    name_newC = \"/Users/deyanmihaylov/Desktop/Scrap space/inflation/WillKinney/flowcode_1.0.3/spec_t\" + str(x).zfill(3) + \".dat\"\n",
    "    \n",
    "    name_newPy = \"/Users/deyanmihaylov/Desktop/Scrap space/InflationModels/spec_t\" + str(x).zfill(3) + \".dat\"\n",
    "\n",
    "    data_old = np.loadtxt(\n",
    "        name_oldC,\n",
    "        dtype='float',\n",
    "        comments='#',\n",
    "        delimiter=None,\n",
    "        converters=None,\n",
    "        skiprows=0,\n",
    "        usecols=None,\n",
    "        unpack=False,\n",
    "        ndmin=0\n",
    "    )\n",
    "    \n",
    "    data_newC = np.loadtxt(\n",
    "        name_newC,\n",
    "        dtype='float',\n",
    "        comments='#',\n",
    "        delimiter=None,\n",
    "        converters=None,\n",
    "        skiprows=0,\n",
    "        usecols=None,\n",
    "        unpack=False,\n",
    "        ndmin=0\n",
    "    )\n",
    "\n",
    "    data_new = np.loadtxt(\n",
    "        name_newPy,\n",
    "        dtype='float',\n",
    "        comments='#',\n",
    "        delimiter=None,\n",
    "        converters=None,\n",
    "        skiprows=0,\n",
    "        usecols=None,\n",
    "        unpack=False,\n",
    "        ndmin=0\n",
    "    )\n",
    "    \n",
    "    if x > 0:\n",
    "#         continue\n",
    "        data_new = data_new.T\n",
    "    \n",
    "    inddiff = np.abs((data_new-data_old)/data_old).argmax()\n",
    "    diff = np.abs((data_new-data_old)/data_old).max()\n",
    "    \n",
    "    if diff > 2.e-15:\n",
    "        print(x, inddiff, diff)\n"
   ]
  },
  {
   "cell_type": "code",
   "execution_count": 33,
   "metadata": {},
   "outputs": [
    {
     "name": "stdout",
     "output_type": "stream",
     "text": [
      "0\n"
     ]
    },
    {
     "name": "stderr",
     "output_type": "stream",
     "text": [
      "/Users/deyanmihaylov/anaconda/lib/python3.5/site-packages/ipykernel/__main__.py:51: RuntimeWarning: invalid value encountered in true_divide\n"
     ]
    },
    {
     "name": "stdout",
     "output_type": "stream",
     "text": [
      "1000\n",
      "2000\n",
      "3000\n"
     ]
    }
   ],
   "source": [
    "import numpy as np\n",
    " \n",
    "for x in range(3125):\n",
    "    if x % 1000 == 0:\n",
    "        print(x)\n",
    "    \n",
    "    name_oldC = \"/Users/deyanmihaylov/Desktop/Scrap space/inflation/WillKinney/flowcode_1.0.3/gsl114files/path\" + str(x).zfill(3) + \".dat\"\n",
    "\n",
    "    name_newC = \"/Users/deyanmihaylov/Desktop/Scrap space/inflation/WillKinney/flowcode_1.0.3/path\" + str(x).zfill(3) + \".dat\"\n",
    "    \n",
    "    name_newPy = \"/Users/deyanmihaylov/Desktop/Scrap space/InflationModels/path\" + str(x).zfill(3) + \".dat\"\n",
    "\n",
    "    data_old = np.loadtxt(\n",
    "        name_oldC,\n",
    "        dtype='float',\n",
    "        comments='#',\n",
    "        delimiter=None,\n",
    "        converters=None,\n",
    "        skiprows=0,\n",
    "        usecols=None,\n",
    "        unpack=False,\n",
    "        ndmin=0\n",
    "    )\n",
    "    \n",
    "    data_newC = np.loadtxt(\n",
    "        name_newC,\n",
    "        dtype='float',\n",
    "        comments='#',\n",
    "        delimiter=None,\n",
    "        converters=None,\n",
    "        skiprows=0,\n",
    "        usecols=None,\n",
    "        unpack=False,\n",
    "        ndmin=0\n",
    "    )\n",
    "\n",
    "    data_new = np.loadtxt(\n",
    "        name_newPy,\n",
    "        dtype='float',\n",
    "        comments='#',\n",
    "        delimiter=None,\n",
    "        converters=None,\n",
    "        skiprows=0,\n",
    "        usecols=None,\n",
    "        unpack=False,\n",
    "        ndmin=0\n",
    "    )\n",
    "    \n",
    "#     data_new = data_new.T\n",
    "    \n",
    "    inddiff = np.abs((data_new-data_old)/data_old).argmax()\n",
    "    diff = np.abs(data_new-data_old).max()\n",
    "    \n",
    "    if diff > 0:\n",
    "        print(x, inddiff, diff)\n",
    "\n"
   ]
  },
  {
   "cell_type": "code",
   "execution_count": null,
   "metadata": {
    "collapsed": true
   },
   "outputs": [],
   "source": []
  },
  {
   "cell_type": "code",
   "execution_count": null,
   "metadata": {
    "collapsed": true
   },
   "outputs": [],
   "source": []
  }
 ],
 "metadata": {
  "kernelspec": {
   "display_name": "Python [default]",
   "language": "python",
   "name": "python3"
  },
  "language_info": {
   "codemirror_mode": {
    "name": "ipython",
    "version": 3
   },
   "file_extension": ".py",
   "mimetype": "text/x-python",
   "name": "python",
   "nbconvert_exporter": "python",
   "pygments_lexer": "ipython3",
   "version": "3.5.4"
  }
 },
 "nbformat": 4,
 "nbformat_minor": 2
}
